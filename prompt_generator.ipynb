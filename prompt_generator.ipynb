{
 "cells": [
  {
   "cell_type": "markdown",
   "metadata": {},
   "source": [
    "# Summarise and generate prompts"
   ]
  },
  {
   "cell_type": "code",
   "execution_count": null,
   "metadata": {},
   "outputs": [],
   "source": [
    "from transformers import pipeline"
   ]
  },
  {
   "cell_type": "code",
   "execution_count": null,
   "metadata": {},
   "outputs": [],
   "source": [
    "from transformers import pipeline\n",
    "\n",
    "# Initialize the summarization pipeline with the BART model\n",
    "summarizer = pipeline(\"summarization\", model=\"facebook/bart-large-cnn\")\n",
    "\n",
    "# Define the long text from the story\n",
    "long_text = \"\"\"\n",
    "Tom spent many hours in the lab, carefully working until he made an important discovery in biology. \n",
    "He shared his findings at a big conference, explaining his work to scientists from around the world. \n",
    "For his hard work, Tom received a special award, recognizing the impact of his discovery. \n",
    "He also wrote a book to share his research with more people in an easy-to-understand way. \n",
    "Tom enjoys helping others, so he mentored students, guiding them in their own research and encouraging them to explore new ideas in biology.\n",
    "\"\"\" # Add your own story here. Trial version\n",
    "\n",
    "# Generate a summary\n",
    "summary = summarizer(\n",
    "    long_text,\n",
    "    max_length=100,  # Adjust to ensure a thorough summary\n",
    "    min_length=75,\n",
    "    do_sample=False\n",
    ")\n",
    "\n",
    "# Extract the summary text\n",
    "summary_text = summary[0]['summary_text']\n",
    "\n",
    "# Split the summary into sentences\n",
    "sentences = summary_text.split('. ')\n",
    "\n",
    "# Refine each sentence into a concise 10-word prompt while retaining crucial info\n",
    "def refine_prompt(sentence):\n",
    "    words = sentence.split()\n",
    "    if len(words) <= 10:\n",
    "        return ' '.join(words).lower() + '.'\n",
    "    else:\n",
    "        return ' '.join(words[:10]).lower() + '.'  # Refine to keep essential content within 10 words\n",
    "\n",
    "# Apply the refinement and assign to separate variables\n",
    "prompt_1 = refine_prompt(sentences[0]) if len(sentences) > 0 else \"\"\n",
    "prompt_2 = refine_prompt(sentences[1]) if len(sentences) > 1 else \"\"\n",
    "prompt_3 = refine_prompt(sentences[2]) if len(sentences) > 2 else \"\"\n",
    "prompt_4 = refine_prompt(sentences[3]) if len(sentences) > 3 else \"\"\n",
    "prompt_5 = refine_prompt(sentences[4]) if len(sentences) > 4 else \"\"\n",
    "\n",
    "# Print each prompt to verify content\n",
    "print(\"Prompt 1:\", prompt_1)\n",
    "print(\"Prompt 2:\", prompt_2)\n",
    "print(\"Prompt 3:\", prompt_3)\n",
    "print(\"Prompt 4:\", prompt_4)\n",
    "print(\"Prompt 5:\", prompt_5)\n",
    "\n",
    "# Pass these prompts to image generator. Integration has been successful but needs cleanup"
   ]
  }
 ],
 "metadata": {
  "kernelspec": {
   "display_name": "Python 3",
   "language": "python",
   "name": "python3"
  },
  "language_info": {
   "name": "python",
   "version": "3.12.3"
  }
 },
 "nbformat": 4,
 "nbformat_minor": 2
}
