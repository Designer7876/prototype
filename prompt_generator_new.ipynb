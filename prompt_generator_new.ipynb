{
 "cells": [
  {
   "cell_type": "code",
   "execution_count": null,
   "metadata": {},
   "outputs": [],
   "source": [
    "import subprocess\n",
    "\n",
    "def generate_text_with_mistral(prompt):\n",
    "    try:\n",
    "        # Structure the prompt to ensure exactly 4 summarized sentences\n",
    "        structured_prompt = (\n",
    "            f\"{prompt}\\n\\n\"\n",
    "            \"Please summarize this story in exactly 4 concise and coherent sentences. Each sentence should be maximum 10 words long.\"\n",
    "            \"Do not include any additional text.\"\n",
    "        )\n",
    "        \n",
    "        # Call the CLI command to run Mistral Nemo\n",
    "        command = [\"ollama\", \"run\", \"mistral-nemo\"]\n",
    "        result = subprocess.run(\n",
    "            command, input=structured_prompt,\n",
    "            capture_output=True,\n",
    "            text=True\n",
    "        )\n",
    "        \n",
    "        # Check for errors\n",
    "        if result.returncode != 0:\n",
    "            raise Exception(f\"Error generating text: {result.stderr}\")\n",
    "        \n",
    "        # Process the output, splitting by both periods and semicolons\n",
    "        output = result.stdout.strip().replace('\\n', ' ')  # Remove newlines\n",
    "        \n",
    "        # First, split by semicolon, then by period if necessary\n",
    "        sentences = [s.strip() for s in output.replace(';', '.').split('. ') if s.strip()]\n",
    "\n",
    "        # Ensure we return exactly the first 4 sentences\n",
    "        summarized_sentences = sentences[:4]\n",
    "        \n",
    "        return summarized_sentences\n",
    "\n",
    "    except Exception as e:\n",
    "        print(f\"An error occurred: {str(e)}\")\n",
    "        return None\n",
    "story_text = \"\"\"\n",
    "Tom spent many hours in the lab, carefully working until he made an important discovery in biology. \n",
    "He shared his findings at a big conference, explaining his work to scientists from around the world. \n",
    "For his hard work, Tom received a special award, recognizing the impact of his discovery. \n",
    "He also wrote a book to share his research with more people in an easy-to-understand way. \n",
    "Tom enjoys helping others, so he mentored students, guiding them in their own research and encouraging them to explore new ideas in biology.\n",
    "\"\"\"\n",
    "\n",
    "# Generate the list of summarized sentences\n",
    "summarized_list = generate_text_with_mistral(story_text)\n",
    "print(\"Summarized Sentences:\", summarized_list)\n"
   ]
  }
 ],
 "metadata": {
  "kernelspec": {
   "display_name": "Python 3",
   "language": "python",
   "name": "python3"
  },
  "language_info": {
   "name": "python",
   "version": "3.12.3"
  }
 },
 "nbformat": 4,
 "nbformat_minor": 2
}
