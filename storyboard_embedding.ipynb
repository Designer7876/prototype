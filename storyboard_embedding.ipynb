{
 "cells": [
  {
   "cell_type": "markdown",
   "metadata": {},
   "source": [
    "# Fusing all images"
   ]
  },
  {
   "cell_type": "code",
   "execution_count": null,
   "metadata": {},
   "outputs": [],
   "source": [
    "\n",
    "from PIL import Image\n",
    "def create_comic_storyboard(image_paths, output_path, grid_size=(3, 2), padding=10, background_color=(255, 255, 255)):\n",
    "    \"\"\"\n",
    "    Create a comic storyboard from a list of images.\n",
    "\n",
    "    :param image_paths: List of paths to images to be included in the storyboard.\n",
    "    :param output_path: Path to save the final storyboard image.\n",
    "    :param grid_size: Tuple representing the grid size (rows, columns).\n",
    "    :param padding: Padding between images in pixels.\n",
    "    :param background_color: Background color for the storyboard.\n",
    "    \"\"\"\n",
    "    # Load all images\n",
    "    images = [Image.open(image_path).convert(\"RGB\") for image_path in image_paths]\n",
    "\n",
    "    # Calculate the size of the final image\n",
    "    image_width, image_height = images[0].size\n",
    "    total_width = grid_size[1] * image_width + (grid_size[1] - 1) * padding\n",
    "    total_height = grid_size[0] * image_height + (grid_size[0] - 1) * padding\n",
    "\n",
    "    # Create the final image with a white background\n",
    "    storyboard = Image.new('RGB', (total_width, total_height), color=background_color)\n",
    "\n",
    "    # Paste the images into the storyboard\n",
    "    for index, image in enumerate(images):\n",
    "        row = index // grid_size[1]\n",
    "        col = index % grid_size[1]\n",
    "        x_offset = col * (image_width + padding)\n",
    "        y_offset = row * (image_height + padding)\n",
    "        storyboard.paste(image, (x_offset, y_offset))\n",
    "\n",
    "    # Save the final storyboard image\n",
    "    storyboard.save(output_path)\n",
    "    print(f\"Comic storyboard saved to {output_path}\")\n",
    "\n",
    "\n",
    "# Example usage\n",
    "image_paths = [\"outsample.png\", \"outsample2.png\",\"outsample3.png\",\"outsample4.png\",\"outsample5.png\"]\n",
    "output_path = \"comic_storyboard.png\"\n",
    "# Assuming 5 images, we use a grid size of 3 row and 2 columns\n",
    "storyboard = create_comic_storyboard(image_paths, output_path, grid_size=(3, 2))\n"
   ]
  }
 ],
 "metadata": {
  "kernelspec": {
   "display_name": "Python 3",
   "language": "python",
   "name": "python3"
  },
  "language_info": {
   "name": "python",
   "version": "3.12.3"
  }
 },
 "nbformat": 4,
 "nbformat_minor": 2
}
